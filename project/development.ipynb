{
  "cells": [
    {
      "cell_type": "markdown",
      "metadata": {
        "id": "_uA1aoLVeCZp"
      },
      "source": [
        "# 🔥 _DeepFire_: API Project for Fire Detection 🔥\n",
        "\n",
        "In this project, you'll apply your skills at neural network development in a new way: taking a model that you've trained yourself and deploying it to a static webpage that you can work with to upload new images and get prediction accuracy results. \n",
        "\n",
        "This project will primarily focus on your abilities in creating and testing neural network architecture development. \n",
        "\n",
        "#### **Specifically, you'll be creating a convolutional neural network that can ingest Fire Detection Image Data and predict binary class values, similarly to what we've done with multilayer perceptrons in the past.**\n",
        "\n",
        "Boilerplate and supporting architectures have been provided for a multitude of tasks ranging from data preprocessing, processing, ingestion, and predictive assessment – however, major tasks and design work will ultimately be left to you to approach and figure out ideal, optimized solutions. "
      ]
    },
    {
      "cell_type": "markdown",
      "metadata": {
        "id": "RfkRfw18eCZr"
      },
      "source": [
        "#### 🔹 General Importations\n",
        "\n",
        "As always, we'll start with importing basic tools and functions for our task."
      ]
    },
    {
      "cell_type": "code",
      "execution_count": 10,
      "metadata": {
        "colab": {
          "base_uri": "https://localhost:8080/"
        },
        "id": "AzBtWF0ZeCZs",
        "outputId": "a9e78c47-977f-4ab8-87f9-63994ee344b1"
      },
      "outputs": [
        {
          "name": "stdout",
          "output_type": "stream",
          "text": [
            "2.7.0\n"
          ]
        }
      ],
      "source": [
        "import numpy as np\n",
        "import matplotlib.pyplot as plt\n",
        "from sklearn import utils\n",
        "\n",
        "import os, PIL\n",
        "from glob import glob\n",
        "\n",
        "import tensorflow as tf\n",
        "\n",
        "print(tf.__version__)"
      ]
    },
    {
      "cell_type": "markdown",
      "metadata": {
        "id": "iy1cc-xEeCZt"
      },
      "source": [
        "---\n",
        "\n",
        "#### 🔎 Initializing Deep Learning Tools 🔍\n",
        "\n",
        "---\n",
        "\n",
        "> Your first task will be crucial to ensuring the successful implementation of the rest of your notebook. \n",
        "> \n",
        "> **Initialize each line with the correct function type from the TensorFlow documentation.**\n",
        "> \n",
        "> Feel free to refer throughout the notebook and across previous notebooks to see which TensorFlow architectures you've used for similar tasks. \n",
        "> \n",
        "> To give you a guide for how this should look, you've been provided with a single correct function declaration in the form of `image_dataset_from_directory` at the end of the cell. \n",
        "\n",
        "---"
      ]
    },
    {
      "cell_type": "code",
      "execution_count": 11,
      "metadata": {
        "id": "_fGRGimzeCZu"
      },
      "outputs": [],
      "source": [
        "\"\"\" Sequential Model Architecture \"\"\"\n",
        "# TODO: Initialize the sequential model architecture here.\n",
        "Sequential = tf.keras.Sequential\n",
        "\n",
        "\"\"\" Data Preprocessing Functions \"\"\"\n",
        "# TODO: Initialize the experimental resizing layer here.\n",
        "Resizing = tf.keras.layers.experimental.preprocessing.Resizing\n",
        "# TODO: Initialize the experimental rescaling layer here.\n",
        "Rescaling = tf.keras.layers.experimental.preprocessing.Rescaling\n",
        "\n",
        "\"\"\" Data Augmentation Functions \"\"\"\n",
        "# TODO: Initialize the experimental random flipping layer here.\n",
        "RandomFlip = tf.keras.layers.experimental.preprocessing.RandomFlip\n",
        "# TODO: Initialize the experimental random rotating layer here.\n",
        "RandomRotation = tf.keras.layers.experimental.preprocessing.RandomRotation\n",
        "# TODO: Initialize the experimental random zooming layer here.\n",
        "RandomZoom = tf.keras.layers.experimental.preprocessing.RandomZoom\n",
        "\n",
        "\"\"\" Artificial Neural Network Layer Inventory \"\"\"\n",
        "# TODO: Initialize the dense connective layer here.\n",
        "Dense = tf.keras.layers.Dense\n",
        "# TODO: Initialize the dropout regularization layer here.\n",
        "Dropout = tf.keras.layers.Dropout\n",
        "\n",
        "\"\"\" Convolutional Neural Network Layer Inventory \"\"\"\n",
        "# TODO: Initialize the 2D convolutional layer here.\n",
        "Conv2D = tf.keras.layers.Conv2D\n",
        "# TODO: Initialize the 2D max pooling layer here.\n",
        "MaxPool2D = tf.keras.layers.MaxPool2D\n",
        "# TODO: Initialize the flattening layer here.\n",
        "Flatten = tf.keras.layers.Flatten\n",
        "\n",
        "\"\"\" Residual Network Layer Inventory \"\"\"\n",
        "# TODO: Initialize the Residual Network multilayer model here.\n",
        "# TODO: Make sure you initialize the 50-layer residual network! \n",
        "# HINT: Look up `ResNet50` for appropriate documentation. \n",
        "ResNet50 = tf.keras.applications.resnet50.ResNet50\n",
        "\n",
        "\"\"\" Function to Load Images from Target Folder \"\"\"\n",
        "image_dataset_from_directory = tf.keras.preprocessing.image_dataset_from_directory"
      ]
    },
    {
      "cell_type": "markdown",
      "metadata": {
        "id": "Hk5p7STneCZv"
      },
      "source": [
        "#### 🔹 Precheck Image Dataset Sizes\n",
        "\n",
        "If you've followed instructions carefully from the `project/PROJECT.md` instructions, the following dataset directory instantiations should work perfectly. \n",
        "\n",
        "If they do not, double-check to make sure you've saved your dataset to the appropriate location. "
      ]
    },
    {
      "cell_type": "code",
      "execution_count": 12,
      "metadata": {
        "colab": {
          "base_uri": "https://localhost:8080/"
        },
        "id": "KxKMEFlWeCZv",
        "outputId": "ada813f8-9be8-45c7-f948-23833623fcb7"
      },
      "outputs": [
        {
          "name": "stdout",
          "output_type": "stream",
          "text": [
            "Number of fire image samples: 110\n",
            "Number of non-fire image samples: 541\n"
          ]
        }
      ],
      "source": [
        "# Use the `glob.glob` function to show how many images are in each folder\n",
        "DATA_DIRECTORY = \"./dataset/Images/\"\n",
        "FIRE_IMAGES_PATTERN = f\"{DATA_DIRECTORY}/Fire_Images/*\"\n",
        "NOT_FIRE_IMAGES_PATTERN = f\"{DATA_DIRECTORY}/Normal_Images/*\"\n",
        "\n",
        "print(f\"Number of fire image samples: {len(glob(FIRE_IMAGES_PATTERN))}\")\n",
        "print(f\"Number of non-fire image samples: {len(glob(NOT_FIRE_IMAGES_PATTERN))}\")"
      ]
    },
    {
      "cell_type": "markdown",
      "metadata": {
        "id": "4KWoA8cFeCZv"
      },
      "source": [
        "#### 🔸 Load Dataset\n",
        "\n",
        "Like we've done previously, let's set our batch size and image dimensions to work seamlessly with our configured model."
      ]
    },
    {
      "cell_type": "code",
      "execution_count": 13,
      "metadata": {
        "id": "K821r0vIeCZw"
      },
      "outputs": [],
      "source": [
        "batch_size = 32\n",
        "IMAGE_HEIGHT = IMAGE_WIDTH = 256"
      ]
    },
    {
      "cell_type": "code",
      "execution_count": 14,
      "metadata": {
        "colab": {
          "base_uri": "https://localhost:8080/",
          "height": 374
        },
        "id": "ygNilQfeeCZw",
        "outputId": "a19937a8-6809-4e9c-dc3f-9180ebc6daf9"
      },
      "outputs": [
        {
          "name": "stdout",
          "output_type": "stream",
          "text": [
            "Found 651 files belonging to 2 classes.\n",
            "Using 521 files for training.\n"
          ]
        }
      ],
      "source": [
        "train = image_dataset_from_directory(\n",
        "    directory=DATA_DIRECTORY,\n",
        "    validation_split=0.2,\n",
        "    subset=\"training\",\n",
        "    seed=42,\n",
        "    image_size=(IMAGE_HEIGHT, IMAGE_WIDTH),\n",
        "    batch_size=batch_size\n",
        ")"
      ]
    },
    {
      "cell_type": "code",
      "execution_count": 15,
      "metadata": {
        "id": "wxgzN4P6eCZw"
      },
      "outputs": [],
      "source": [
        "class_names = train.class_names"
      ]
    },
    {
      "cell_type": "code",
      "execution_count": 16,
      "metadata": {
        "id": "DHp05EdGeCZx"
      },
      "outputs": [
        {
          "name": "stdout",
          "output_type": "stream",
          "text": [
            "Found 651 files belonging to 2 classes.\n",
            "Using 130 files for validation.\n"
          ]
        }
      ],
      "source": [
        "validation = image_dataset_from_directory(\n",
        "    directory=DATA_DIRECTORY,\n",
        "    validation_split=0.2,\n",
        "    subset=\"validation\",\n",
        "    seed=42,\n",
        "    image_size=(IMAGE_HEIGHT, IMAGE_WIDTH),\n",
        "    batch_size=batch_size\n",
        ")"
      ]
    },
    {
      "cell_type": "markdown",
      "metadata": {
        "id": "iQ3TO9xpeCZx"
      },
      "source": [
        "From these results, we can actually see that we have a major class imbalance with our fire images representing our minority class. \n",
        "\n",
        "Let's go ahead and fix that by resampling our dataset. "
      ]
    },
    {
      "cell_type": "markdown",
      "metadata": {
        "id": "nVaVt6TKeCZx"
      },
      "source": [
        "#### 🔹 Resample (Oversample) Minority Class"
      ]
    },
    {
      "cell_type": "code",
      "execution_count": 17,
      "metadata": {
        "id": "YHbnEcPZeCZx"
      },
      "outputs": [],
      "source": [
        "def resample_class_distribution(train, DATA_DIRECTORY=DATA_DIRECTORY, save=True):\n",
        "    \"\"\" Helper function to resample class distribution for image dataset. \"\"\"\n",
        "    minority_class, majority_class = list(), list()\n",
        "    for images, labels, in train.take(3):\n",
        "        for image, label in zip(images, labels):\n",
        "            if label == 0:\n",
        "                minority_class.append(image.numpy().astype(np.uint8))\n",
        "            else:\n",
        "                majority_class.append(image.numpy().astype(np.uint8))\n",
        "    FIRE_SIZE = len(glob(f\"{DATA_DIRECTORY}/Fire_Images/*\"))\n",
        "    NOT_FIRE_SIZE = len(glob(f\"{DATA_DIRECTORY}/Normal_Images/*\"))\n",
        "    upsampled_images = np.array(utils.resample(minority_class, replace=True, \n",
        "                                               n_samples=(NOT_FIRE_SIZE - FIRE_SIZE),\n",
        "                                               random_state=42))\n",
        "    if save == True:\n",
        "        index = 0\n",
        "        for image in upsampled_images:\n",
        "            PATH = f\"{DATA_DIRECTORY}/Fire_Images/new_fire_{index}.png\"\n",
        "            PIL.Image.fromarray(image).save(PATH)\n",
        "            index += 1"
      ]
    },
    {
      "cell_type": "code",
      "execution_count": 18,
      "metadata": {
        "id": "znaA-gO_eCZy"
      },
      "outputs": [],
      "source": [
        "resample_class_distribution(train)"
      ]
    },
    {
      "cell_type": "markdown",
      "metadata": {
        "id": "5TahIyeueCZy"
      },
      "source": [
        "You should now see that additional images have been generated to balance out both classes prior to predictive modeling.\n",
        "\n",
        "**Go ahead and re-run the `Load Dataset` steps to see new generated dataset changes.**"
      ]
    },
    {
      "cell_type": "markdown",
      "metadata": {
        "id": "ir-NI0IkeCZy"
      },
      "source": [
        "#### 🔹 Pre-Optimize Image File Ingestion\n",
        "\n",
        "This is an accessory step to optimize image data ingestion at the cost of slightly higher memory usage. No modifications are required for this function. "
      ]
    },
    {
      "cell_type": "code",
      "execution_count": 19,
      "metadata": {
        "id": "sOHO-go_eCZy"
      },
      "outputs": [],
      "source": [
        "def configure_performant_datasets(dataset, shuffling=None):\n",
        "    \"\"\" \n",
        "    Custom function to prefetch and cache stored elements\n",
        "    of retrieved image data to boost latency and performance\n",
        "    at the cost of higher memory usage. \n",
        "    \"\"\"\n",
        "    AUTOTUNE = tf.data.AUTOTUNE\n",
        "    # Cache and prefetch elements of input data for boosted performance\n",
        "    if not shuffling:\n",
        "        return dataset.cache().prefetch(buffer_size=AUTOTUNE)\n",
        "    else:\n",
        "        return dataset.cache().shuffle(shuffling).prefetch(buffer_size=AUTOTUNE)"
      ]
    },
    {
      "cell_type": "code",
      "execution_count": 20,
      "metadata": {
        "id": "2onL-i9PeCZy"
      },
      "outputs": [],
      "source": [
        "train =         configure_performant_datasets(train, shuffling=1000)\n",
        "validation =    configure_performant_datasets(validation)"
      ]
    },
    {
      "cell_type": "markdown",
      "metadata": {
        "id": "HoP9cUK-eCZy"
      },
      "source": [
        "---\n",
        "\n",
        "#### 🔎 Create Resizing and Normalization Layers 🔍\n",
        "\n",
        "---\n",
        "\n",
        "> For this task, you'll declare your resizing and normalization layers using the layer architectures that you imported earlier. \n",
        ">\n",
        "> Recall that for this step, we want to accomplish two key tasks: \n",
        "> - Resize all images to the predetermined square image dimensions as indicated by `IMAGE_HEIGHT` and `IMAGE_WIDTH`.\n",
        "> - Scale all images so pixel values are within the range of (0., 1.) rather than the original (0., 255.).\n",
        ">\n",
        "> Additionally, since we're working with colorized image data, we'll want to ensure that our image rescaling/normalization step inputs images as stacks-of-three, since each image channel corresponds to red, green, and blue pixel values. \n",
        ">\n",
        "> As always, refer to previous notebook documentation on image normalization for colorization if you need help.\n",
        "\n",
        "---"
      ]
    },
    {
      "cell_type": "code",
      "execution_count": 21,
      "metadata": {
        "id": "PMpjh8UmeCZz"
      },
      "outputs": [],
      "source": [
        "resizing_layer = Resizing(IMAGE_HEIGHT,IMAGE_WIDTH)\n",
        "normalization_layer = Rescaling(1./255, input_shape=(IMAGE_HEIGHT,IMAGE_WIDTH,3))"
      ]
    },
    {
      "cell_type": "markdown",
      "metadata": {
        "id": "1Vn5iRs7eCZz"
      },
      "source": [
        "---\n",
        "\n",
        "#### 🔎 Neural Network Architecture Creation 🔍\n",
        "\n",
        "---\n",
        "\n",
        "> Now time for the main event! \n",
        "> \n",
        "> Here, you'll be creating and instantiating your model architecture. \n",
        "> \n",
        "> For this assignment, you'll be creating a **Convolutional Neural Network** that can process Fire Detection images for predictive purposes.\n",
        "> \n",
        "> _For this project, you will not be provided guidance as to how to design and implement your CNN architecture._\n",
        "> \n",
        "> Refer to previous notebooks and challenges on CNNs as well as online documentation/resources for how to design CNN models on higher-order images. \n",
        "> \n",
        "> **This is a highly creative step, and there are no wrong answers; however, you will be assessed on your experimentation process and why you choose specific modeling layers, configurations, optimizers, regularizers, and overall design choices.**\n",
        ">\n",
        "> Light boilerplate will be provided to get you started, but as always, use any and all resources at your disposal to finish the job! \n",
        "\n",
        "---"
      ]
    },
    {
      "cell_type": "code",
      "execution_count": 22,
      "metadata": {
        "colab": {
          "base_uri": "https://localhost:8080/",
          "height": 240
        },
        "id": "syaaMo_aeCZz",
        "outputId": "bb20bf1e-bb18-4bea-efcd-56750df1803b"
      },
      "outputs": [
        {
          "name": "stdout",
          "output_type": "stream",
          "text": [
            "Model: \"sequential\"\n",
            "_________________________________________________________________\n",
            " Layer (type)                Output Shape              Param #   \n",
            "=================================================================\n",
            " resizing (Resizing)         (None, 256, 256, 3)       0         \n",
            "                                                                 \n",
            " rescaling (Rescaling)       (None, 256, 256, 3)       0         \n",
            "                                                                 \n",
            " flatten (Flatten)           (None, 196608)            0         \n",
            "                                                                 \n",
            " dense (Dense)               (None, 128)               25165952  \n",
            "                                                                 \n",
            " dense_1 (Dense)             (None, 64)                8256      \n",
            "                                                                 \n",
            " dense_2 (Dense)             (None, 1)                 65        \n",
            "                                                                 \n",
            "=================================================================\n",
            "Total params: 25,174,273\n",
            "Trainable params: 25,174,273\n",
            "Non-trainable params: 0\n",
            "_________________________________________________________________\n"
          ]
        }
      ],
      "source": [
        "\"\"\" Sequential Model Architecture Setup \"\"\"\n",
        "model = Sequential()\n",
        "\n",
        "\"\"\" CNN Layering Steps \"\"\"\n",
        "# TODO: Instantiate and Add Layers to Create a Functional CNN for Image Recognition.\n",
        "# TODO: Be Sure to Use as Many Imported Layers at the Top of the Notebook as Possible. \n",
        "input_layer = tf.keras.layers.InputLayer(input_shape=(IMAGE_HEIGHT, IMAGE_WIDTH, 3))\n",
        "flattening_layer = Flatten()\n",
        "dense_layer_1 = Dense(128, activation=\"relu\")\n",
        "dense_layer_2 = Dense(64, activation=\"relu\")\n",
        "output_layer = Dense(1, activation='sigmoid')\n",
        "\n",
        "\n",
        "model.add(input_layer)\n",
        "model.add(resizing_layer)\n",
        "model.add(normalization_layer)\n",
        "model.add(flattening_layer)\n",
        "model.add(dense_layer_1)\n",
        "model.add(dense_layer_2)\n",
        "model.add(output_layer)\n",
        "\n",
        "\"\"\" CNN Architecture Summarization \"\"\"\n",
        "# TODO: Save Screenshots of your Model Summaries to put in this Project Subfolder.\n",
        "model.summary()"
      ]
    },
    {
      "cell_type": "markdown",
      "metadata": {
        "id": "HRnhds3EeCZz"
      },
      "source": [
        "---\n",
        "\n",
        "#### 🔎 Neural Network Configuration 🔍\n",
        "\n",
        "---\n",
        "\n",
        "> For this task, you'll compile your CNN architecture with appropriate parameters for loss calculation, optimization, and accuracy metrics.\n",
        "> \n",
        "> As always, refer to previous notebooks, tutorials, and documentation for best-case parameters to use for image recognition models.\n",
        "\n",
        "---"
      ]
    },
    {
      "cell_type": "code",
      "execution_count": 23,
      "metadata": {
        "id": "ZN9D347ceCZz"
      },
      "outputs": [],
      "source": [
        "\"\"\" CNN Model Compilation \"\"\"\n",
        "# TODO: Compile Model with Appropriate Loss, Optimizer, and Metrics-Based Parameters\n",
        "model.compile(\n",
        "    loss=tf.keras.losses.BinaryCrossentropy(from_logits=True),\n",
        "    optimizer=\"adam\",\n",
        "    metrics=[\"accuracy\"]\n",
        ")"
      ]
    },
    {
      "cell_type": "markdown",
      "metadata": {
        "id": "sZM6GGbGeCZz"
      },
      "source": [
        "---\n",
        "\n",
        "#### 🔎 CNN Model Predictive Fitness 🔍\n",
        "\n",
        "---\n",
        "\n",
        "> For this task, you'll be taking your compiled model and fitting it against your training and validation data.\n",
        "> \n",
        "> Keep in mind that there are several opportunities for further optimizing your workflow with techniques such as batch normalization, generator-based data feeding, etc. \n",
        "> \n",
        "> As always, refer to previous notebooks, tutorials, and documentation for designing model fitness with validation data. \n",
        "\n",
        "---"
      ]
    },
    {
      "cell_type": "code",
      "execution_count": 26,
      "metadata": {
        "id": "4jgA5Y5VeCZ0"
      },
      "outputs": [
        {
          "name": "stdout",
          "output_type": "stream",
          "text": [
            "Epoch 1/10\n"
          ]
        },
        {
          "name": "stderr",
          "output_type": "stream",
          "text": [
            "/Users/tristann3/opt/anaconda3/lib/python3.9/site-packages/tensorflow/python/util/dispatch.py:1096: UserWarning: \"`binary_crossentropy` received `from_logits=True`, but the `output` argument was produced by a sigmoid or softmax activation and thus does not represent logits. Was this intended?\"\n",
            "  return dispatch_target(*args, **kwargs)\n"
          ]
        },
        {
          "name": "stdout",
          "output_type": "stream",
          "text": [
            "17/17 [==============================] - 5s 161ms/step - loss: 14.2318 - accuracy: 0.7466 - val_loss: 2.2325 - val_accuracy: 0.8231\n",
            "Epoch 2/10\n",
            "17/17 [==============================] - 2s 113ms/step - loss: 0.8173 - accuracy: 0.8369 - val_loss: 0.5582 - val_accuracy: 0.8308\n",
            "Epoch 3/10\n",
            "17/17 [==============================] - 2s 109ms/step - loss: 1.9376 - accuracy: 0.7735 - val_loss: 5.3673 - val_accuracy: 0.8154\n",
            "Epoch 4/10\n",
            "17/17 [==============================] - 2s 108ms/step - loss: 3.2736 - accuracy: 0.8023 - val_loss: 6.4615 - val_accuracy: 0.8154\n",
            "Epoch 5/10\n",
            "17/17 [==============================] - 2s 107ms/step - loss: 6.1757 - accuracy: 0.8177 - val_loss: 8.2905 - val_accuracy: 0.8231\n",
            "Epoch 6/10\n",
            "17/17 [==============================] - 2s 109ms/step - loss: 1.8141 - accuracy: 0.8177 - val_loss: 3.5426 - val_accuracy: 0.8308\n",
            "Epoch 7/10\n",
            "17/17 [==============================] - 2s 111ms/step - loss: 1.4345 - accuracy: 0.8388 - val_loss: 2.1204 - val_accuracy: 0.8615\n",
            "Epoch 8/10\n",
            "17/17 [==============================] - 2s 114ms/step - loss: 1.1287 - accuracy: 0.8618 - val_loss: 0.6317 - val_accuracy: 0.8846\n",
            "Epoch 9/10\n",
            "17/17 [==============================] - 2s 111ms/step - loss: 0.3663 - accuracy: 0.9232 - val_loss: 2.1351 - val_accuracy: 0.8308\n",
            "Epoch 10/10\n",
            "17/17 [==============================] - 2s 111ms/step - loss: 0.7157 - accuracy: 0.8772 - val_loss: 0.8734 - val_accuracy: 0.8615\n"
          ]
        }
      ],
      "source": [
        "\"\"\" CNN Model Fitness and History Extraction \"\"\"\n",
        "# TODO: Fit Model Against Training and Validation Data with Appropriate Epochs\n",
        "epochs = 10\n",
        "history = model.fit(train,\n",
        "    validation_data=validation,\n",
        "                    epochs=epochs)"
      ]
    },
    {
      "cell_type": "markdown",
      "metadata": {
        "id": "Td56yLH9eCZ0"
      },
      "source": [
        "---\n",
        "\n",
        "#### 🔎 CNN Model Evaluation 🔍\n",
        "\n",
        "---\n",
        "\n",
        "> For this task, you'll evaluate your CNN model using the validation dataset in order to calculate overall validation accuracy and loss.\n",
        "> \n",
        "> As always, refer to previous notebooks, tutorials, and documentation for using the proper evaluation function for model prediction. \n",
        "\n",
        "---"
      ]
    },
    {
      "cell_type": "code",
      "execution_count": 27,
      "metadata": {
        "colab": {
          "base_uri": "https://localhost:8080/",
          "height": 204
        },
        "id": "7SsPjPhJeCZ0",
        "outputId": "d2661c27-a35a-49e0-dc8d-fb7d3885d0f7"
      },
      "outputs": [
        {
          "name": "stdout",
          "output_type": "stream",
          "text": [
            "5/5 [==============================] - 0s 20ms/step - loss: 0.8734 - accuracy: 0.8615\n"
          ]
        },
        {
          "data": {
            "text/plain": [
              "[0.8734091520309448, 0.8615384697914124]"
            ]
          },
          "execution_count": 27,
          "metadata": {},
          "output_type": "execute_result"
        }
      ],
      "source": [
        "\"\"\" CNN Model Predictive Evaluation \"\"\"\n",
        "# TODO: Evaluate Model Against Validation Dataset\n",
        "model.evaluate(validation)"
      ]
    },
    {
      "cell_type": "markdown",
      "metadata": {
        "id": "-l1dri0seCZ0"
      },
      "source": [
        "#### 🔹 Model State Saving\n",
        "\n",
        "When you are satisfied with your model state configuration and performance and are ready to export the model's weights and parameters for deployment purposes, simply run the following function! "
      ]
    },
    {
      "cell_type": "code",
      "execution_count": 28,
      "metadata": {
        "id": "aCj2F2HLeCZ1"
      },
      "outputs": [],
      "source": [
        "def save_model(model, file_name, save_format):\n",
        "    \"\"\" \n",
        "    Save the model weights and architecture.\n",
        "    \n",
        "    Parameters: \n",
        "       model(Model): keras Model object being saved\n",
        "       file_name(str): name of the Hadoop file where\n",
        "                       the whole model will be saved\n",
        "       save_format(str): Indicates whether to save the model to the default\n",
        "                         SavedModel('tf'), or HDF5('h5'), or \n",
        "                         use both H5 and JSON ('composite') formats. \n",
        "       Returns: None\n",
        "    \"\"\"\n",
        "    MODEL_DIRECTORY = \"../model\"\n",
        "    def __save_as_composite():\n",
        "      \"\"\" Saving the model as H5 (for params) + JSON (for the architecture) \"\"\"\n",
        "      # Save the weights\n",
        "      model.save_weights(f'{MODEL_DIRECTORY}/{file_name}_params.h5')\n",
        "      # Save the architecture\n",
        "      with open(f'{MODEL_DIRECTORY}/{file_name}_layers.json', 'w') as f:\n",
        "          f.write(model.to_json())\n",
        "    \n",
        "    def __save_as_h5():\n",
        "      \"\"\" Option 2: Saving whole model as a single H5 file (more storage) \"\"\"\n",
        "      model.save(f\"{MODEL_DIRECTORY}/{file_name}.h5\", save_format=save_format)\n",
        "\n",
        "    # Call the appropiate save func\n",
        "    if save_format == 'h5':\n",
        "      __save_as_h5()\n",
        "    elif save_format == 'composite':\n",
        "      __save_as_composite()\n",
        "    else:  # save as a SavedModel\n",
        "      model.save(file_name)"
      ]
    },
    {
      "cell_type": "code",
      "execution_count": 30,
      "metadata": {
        "id": "do146NwieCZ1"
      },
      "outputs": [],
      "source": [
        "save_model(model, \"fire_cnn_classifier\", \"composite\")"
      ]
    },
    {
      "cell_type": "markdown",
      "metadata": {
        "id": "K8SRhtZCeCZ1"
      },
      "source": [
        "Now go ahead and complete the remaining tasks in `project/PROJECT.md` to complete this project successfully! "
      ]
    },
    {
      "cell_type": "markdown",
      "metadata": {
        "id": "ugwIbkxjeCZ1"
      },
      "source": [
        "---\n",
        "---\n",
        "---"
      ]
    }
  ],
  "metadata": {
    "colab": {
      "collapsed_sections": [],
      "name": "development2.ipynb",
      "provenance": []
    },
    "kernelspec": {
      "display_name": "Python 3",
      "language": "python",
      "name": "python3"
    },
    "language_info": {
      "codemirror_mode": {
        "name": "ipython",
        "version": 3
      },
      "file_extension": ".py",
      "mimetype": "text/x-python",
      "name": "python",
      "nbconvert_exporter": "python",
      "pygments_lexer": "ipython3",
      "version": "3.9.7"
    }
  },
  "nbformat": 4,
  "nbformat_minor": 0
}
